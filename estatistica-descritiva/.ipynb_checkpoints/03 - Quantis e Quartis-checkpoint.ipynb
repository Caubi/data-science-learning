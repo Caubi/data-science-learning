{
 "cells": [
  {
   "cell_type": "markdown",
   "id": "f1d0d031",
   "metadata": {},
   "source": [
    "### Quantis e Quartis\n",
    "\n",
    "#### Nos ajudam a entender o que ocorre em certa porcentagem dos nossos dados. Eles recortam nossos dados na quantidade que pedimos, e então temos uma noção melhor de como as observações estão se comportando"
   ]
  },
  {
   "attachments": {
    "python-data-science-04-quartiles-3.png": {
     "image/png": "[encoded data removed]"
    }
   },
   "cell_type": "markdown",
   "id": "542d628e",
   "metadata": {},
   "source": [
    "![python-data-science-04-quartiles-3.png](attachment:python-data-science-04-quartiles-3.png)"
   ]
  },
  {
   "cell_type": "markdown",
   "id": "dea3507b",
   "metadata": {},
   "source": [
    "#### O percentil 10% (quantil, 0.10), por exemplo, nos informa qual é o valor máximo dos dados se eu considerar somente os 10% primeiros termos dos meus dados, depois de ordená-los."
   ]
  },
  {
   "cell_type": "markdown",
   "id": "ff883f18",
   "metadata": {},
   "source": [
    " "
   ]
  },
  {
   "cell_type": "markdown",
   "id": "e75bd197",
   "metadata": {},
   "source": [
    "### Os quartis são quantis específicos:"
   ]
  },
  {
   "cell_type": "markdown",
   "id": "55e5bd4a",
   "metadata": {},
   "source": [
    "#### • 1° Quartil = Quantil 0.25\n",
    "#### • 2° Quartil = Quantil 0.50\n",
    "#### • 3° Quartil = Quantil 0.75"
   ]
  },
  {
   "cell_type": "markdown",
   "id": "e3c00275",
   "metadata": {},
   "source": [
    " "
   ]
  },
  {
   "cell_type": "markdown",
   "id": "332e3159",
   "metadata": {},
   "source": [
    "### Vamos continuar usando os dados do preço do Big Mac de julho de 2022.\n",
    "\n",
    "https://www.kaggle.com/datasets/vittoriogiatti/bigmacprice\n",
    "\n",
    "#### Importando a biblioteca pandas (https://pandas.pydata.org)"
   ]
  },
  {
   "cell_type": "code",
   "execution_count": 3,
   "id": "2e55a236",
   "metadata": {},
   "outputs": [],
   "source": [
    "import pandas as pd"
   ]
  },
  {
   "cell_type": "markdown",
   "id": "d863318c",
   "metadata": {},
   "source": [
    "#### Lendo os dados, que estão em csv"
   ]
  },
  {
   "cell_type": "code",
   "execution_count": 4,
   "id": "e86c9231",
   "metadata": {},
   "outputs": [],
   "source": [
    "df = pd.read_csv('BigmacPriceJuly2022.csv')"
   ]
  },
  {
   "cell_type": "code",
   "execution_count": 5,
   "id": "3292acaf",
   "metadata": {},
   "outputs": [
    {
     "data": {
      "text/html": [
       "<div>\n",
       "<style scoped>\n",
       "    .dataframe tbody tr th:only-of-type {\n",
       "        vertical-align: middle;\n",
       "    }\n",
       "\n",
       "    .dataframe tbody tr th {\n",
       "        vertical-align: top;\n",
       "    }\n",
       "\n",
       "    .dataframe thead th {\n",
       "        text-align: right;\n",
       "    }\n",
       "</style>\n",
       "<table border=\"1\" class=\"dataframe\">\n",
       "  <thead>\n",
       "    <tr style=\"text-align: right;\">\n",
       "      <th></th>\n",
       "      <th>date</th>\n",
       "      <th>currency_code</th>\n",
       "      <th>name</th>\n",
       "      <th>local_price</th>\n",
       "      <th>dollar_ex</th>\n",
       "      <th>dollar_price</th>\n",
       "    </tr>\n",
       "  </thead>\n",
       "  <tbody>\n",
       "    <tr>\n",
       "      <th>0</th>\n",
       "      <td>2022-07-01</td>\n",
       "      <td>ARS</td>\n",
       "      <td>Argentina</td>\n",
       "      <td>590.00</td>\n",
       "      <td>129</td>\n",
       "      <td>4.57</td>\n",
       "    </tr>\n",
       "    <tr>\n",
       "      <th>1</th>\n",
       "      <td>2022-07-01</td>\n",
       "      <td>AUD</td>\n",
       "      <td>Australia</td>\n",
       "      <td>6.70</td>\n",
       "      <td>1</td>\n",
       "      <td>6.70</td>\n",
       "    </tr>\n",
       "    <tr>\n",
       "      <th>2</th>\n",
       "      <td>2022-07-01</td>\n",
       "      <td>EUR</td>\n",
       "      <td>Austria</td>\n",
       "      <td>4.35</td>\n",
       "      <td>1</td>\n",
       "      <td>4.35</td>\n",
       "    </tr>\n",
       "    <tr>\n",
       "      <th>3</th>\n",
       "      <td>2022-07-01</td>\n",
       "      <td>AZN</td>\n",
       "      <td>Azerbaijan</td>\n",
       "      <td>4.70</td>\n",
       "      <td>1</td>\n",
       "      <td>4.70</td>\n",
       "    </tr>\n",
       "    <tr>\n",
       "      <th>4</th>\n",
       "      <td>2022-07-01</td>\n",
       "      <td>BHD</td>\n",
       "      <td>Bahrain</td>\n",
       "      <td>1.60</td>\n",
       "      <td>1</td>\n",
       "      <td>1.60</td>\n",
       "    </tr>\n",
       "  </tbody>\n",
       "</table>\n",
       "</div>"
      ],
      "text/plain": [
       "         date currency_code        name  local_price  dollar_ex  dollar_price\n",
       "0  2022-07-01           ARS   Argentina       590.00        129          4.57\n",
       "1  2022-07-01           AUD   Australia         6.70          1          6.70\n",
       "2  2022-07-01           EUR     Austria         4.35          1          4.35\n",
       "3  2022-07-01           AZN  Azerbaijan         4.70          1          4.70\n",
       "4  2022-07-01           BHD     Bahrain         1.60          1          1.60"
      ]
     },
     "execution_count": 5,
     "metadata": {},
     "output_type": "execute_result"
    }
   ],
   "source": [
    "df.head()"
   ]
  },
  {
   "cell_type": "markdown",
   "id": "f33b4502",
   "metadata": {},
   "source": [
    "\n",
    "#### **Descrição das colunas**\n",
    "\n",
    "    • date - Data do registro\n",
    "\n",
    "    • currency_code - Código ISO 4217 internacional do país\n",
    "\n",
    "    • name - Nome do país\n",
    "\n",
    "    • local_price - Preço do Big Mac na moeda local\n",
    "\n",
    "    • dollar_ex - Taxa de Conversão do dólar amerciano para a moeda local\n",
    "\n",
    "    • dollar_price - Preço do Big Mac em dólares americanos"
   ]
  },
  {
   "cell_type": "markdown",
   "id": "26aae899",
   "metadata": {},
   "source": [
    "#### Vamos calcular alguns quantis para o preço do Big Mac em dólares americanos"
   ]
  },
  {
   "cell_type": "markdown",
   "id": "93d0d77c",
   "metadata": {},
   "source": [
    "*Aqui calculamos o quantil 0.1, ou o percentil 10%*"
   ]
  },
  {
   "cell_type": "code",
   "execution_count": 10,
   "id": "eb6bc9aa",
   "metadata": {},
   "outputs": [
    {
     "data": {
      "text/plain": [
       "2.413"
      ]
     },
     "execution_count": 10,
     "metadata": {},
     "output_type": "execute_result"
    }
   ],
   "source": [
    "df['dollar_price'].quantile(0.1)"
   ]
  },
  {
   "cell_type": "markdown",
   "id": "9cc5666c",
   "metadata": {},
   "source": [
    "*Podemos afirmar que 10% dos Big Mac´s no mundo custam até 2.413 dólares*"
   ]
  },
  {
   "cell_type": "markdown",
   "id": "4f997003",
   "metadata": {},
   "source": [
    "*Aqui calculamos o quartil 0.25, ou o percentil 25%, ou o primeiro quartil*"
   ]
  },
  {
   "cell_type": "code",
   "execution_count": 12,
   "id": "fd6f65bb",
   "metadata": {},
   "outputs": [
    {
     "data": {
      "text/plain": [
       "3.0"
      ]
     },
     "execution_count": 12,
     "metadata": {},
     "output_type": "execute_result"
    }
   ],
   "source": [
    "df['dollar_price'].quantile(0.25)"
   ]
  },
  {
   "cell_type": "markdown",
   "id": "98a5dd78",
   "metadata": {},
   "source": [
    "*Podemos afirmar que um quarto dos Big Mac´s do mundo custam até 3 dólares*"
   ]
  },
  {
   "cell_type": "markdown",
   "id": "be54c3ef",
   "metadata": {},
   "source": [
    "*Aqui calcumaos o quantil 0.5, ou o percentil 50%, ou a mediana*"
   ]
  },
  {
   "cell_type": "code",
   "execution_count": 13,
   "id": "00a7412c",
   "metadata": {},
   "outputs": [
    {
     "data": {
      "text/plain": [
       "3.9050000000000002"
      ]
     },
     "execution_count": 13,
     "metadata": {},
     "output_type": "execute_result"
    }
   ],
   "source": [
    "df['dollar_price'].quantile(0.5)"
   ]
  },
  {
   "cell_type": "code",
   "execution_count": 14,
   "id": "fcf3630e",
   "metadata": {},
   "outputs": [
    {
     "data": {
      "text/plain": [
       "3.9050000000000002"
      ]
     },
     "execution_count": 14,
     "metadata": {},
     "output_type": "execute_result"
    }
   ],
   "source": [
    "df['dollar_price'].median()"
   ]
  },
  {
   "cell_type": "markdown",
   "id": "64112b8a",
   "metadata": {},
   "source": [
    "*Podemos dizer que metade dos Big Mac´s do mundo custam até 3.9 dólares*"
   ]
  },
  {
   "cell_type": "markdown",
   "id": "b0ffd0f9",
   "metadata": {},
   "source": [
    " #### Agora com os quantis, conseguimos montar um retrato mais completo de como nossos dados se comportam "
   ]
  },
  {
   "cell_type": "code",
   "execution_count": 15,
   "id": "da2952e6",
   "metadata": {},
   "outputs": [],
   "source": [
    "percentil_10 = df['dollar_price'].quantile(0.1)\n",
    "percentil_25 = df['dollar_price'].quantile(0.25)\n",
    "percentil_50 = df['dollar_price'].quantile(0.50)\n",
    "percentil_75 = df['dollar_price'].quantile(0.75)\n",
    "percentil_90 = df['dollar_price'].quantile(0.9)\n",
    "percentil_95 = df['dollar_price'].quantile(0.95)\n",
    "percentil_99 = df['dollar_price'].quantile(0.99)\n",
    "\n",
    "media = df['dollar_price'].mean()\n",
    "moda = df['dollar_price'].mode()[0]"
   ]
  },
  {
   "cell_type": "code",
   "execution_count": 20,
   "id": "d3f1ba0b",
   "metadata": {},
   "outputs": [
    {
     "name": "stdout",
     "output_type": "stream",
     "text": [
      "Quantil 0.10: 2.413\n",
      "\n",
      "Primeiro Quartil: 3.0\n",
      "\n",
      "Mediana: 3.9050000000000002\n",
      "\n",
      "Média: 4.003571428571429\n",
      "\n",
      "Moda: 4.0\n",
      "\n",
      "Terceiro Quartil: 4.6875\n",
      "\n",
      "Quantil 0.90: 5.91\n",
      "\n",
      "Quantil 0.95: 6.609999999999999\n",
      "\n",
      "Quantil 0.99: 6.9551\n",
      "\n"
     ]
    }
   ],
   "source": [
    "print(\"Quantil 0.10: {}\\n\".format(percentil_10))\n",
    "print(\"Primeiro Quartil: {}\\n\".format(percentil_25))\n",
    "\n",
    "print(\"Mediana: {}\\n\".format(percentil_50))\n",
    "print(\"Média: {}\\n\".format(media))\n",
    "print(\"Moda: {}\\n\".format(moda))\n",
    "\n",
    "print(\"Terceiro Quartil: {}\\n\".format(percentil_75))\n",
    "print(\"Quantil 0.90: {}\\n\".format(percentil_90))\n",
    "print(\"Quantil 0.95: {}\\n\".format(percentil_95))\n",
    "print(\"Quantil 0.99: {}\\n\".format(percentil_99))"
   ]
  },
  {
   "cell_type": "code",
   "execution_count": null,
   "id": "f1447e94",
   "metadata": {},
   "outputs": [],
   "source": []
  }
 ],
 "metadata": {
  "kernelspec": {
   "display_name": "Python 3",
   "language": "python",
   "name": "python3"
  },
  "language_info": {
   "codemirror_mode": {
    "name": "ipython",
    "version": 3
   },
   "file_extension": ".py",
   "mimetype": "text/x-python",
   "name": "python",
   "nbconvert_exporter": "python",
   "pygments_lexer": "ipython3",
   "version": "3.6.9"
  }
 },
 "nbformat": 4,
 "nbformat_minor": 5
}
