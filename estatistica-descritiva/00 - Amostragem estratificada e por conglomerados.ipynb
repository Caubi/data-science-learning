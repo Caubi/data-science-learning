{
 "cells": [
  {
   "cell_type": "code",
   "execution_count": 1,
   "id": "42a55202",
   "metadata": {},
   "outputs": [],
   "source": [
    "import pandas as pd\n",
    "from random import sample"
   ]
  },
  {
   "cell_type": "code",
   "execution_count": 2,
   "id": "98b5e7e5",
   "metadata": {},
   "outputs": [
    {
     "data": {
      "text/html": [
       "<div>\n",
       "<style scoped>\n",
       "    .dataframe tbody tr th:only-of-type {\n",
       "        vertical-align: middle;\n",
       "    }\n",
       "\n",
       "    .dataframe tbody tr th {\n",
       "        vertical-align: top;\n",
       "    }\n",
       "\n",
       "    .dataframe thead th {\n",
       "        text-align: right;\n",
       "    }\n",
       "</style>\n",
       "<table border=\"1\" class=\"dataframe\">\n",
       "  <thead>\n",
       "    <tr style=\"text-align: right;\">\n",
       "      <th></th>\n",
       "      <th>grupo</th>\n",
       "      <th>values</th>\n",
       "    </tr>\n",
       "  </thead>\n",
       "  <tbody>\n",
       "    <tr>\n",
       "      <th>0</th>\n",
       "      <td>1</td>\n",
       "      <td>A</td>\n",
       "    </tr>\n",
       "    <tr>\n",
       "      <th>1</th>\n",
       "      <td>2</td>\n",
       "      <td>A</td>\n",
       "    </tr>\n",
       "    <tr>\n",
       "      <th>2</th>\n",
       "      <td>3</td>\n",
       "      <td>A</td>\n",
       "    </tr>\n",
       "    <tr>\n",
       "      <th>3</th>\n",
       "      <td>4</td>\n",
       "      <td>A</td>\n",
       "    </tr>\n",
       "    <tr>\n",
       "      <th>4</th>\n",
       "      <td>5</td>\n",
       "      <td>B</td>\n",
       "    </tr>\n",
       "    <tr>\n",
       "      <th>5</th>\n",
       "      <td>6</td>\n",
       "      <td>B</td>\n",
       "    </tr>\n",
       "    <tr>\n",
       "      <th>6</th>\n",
       "      <td>7</td>\n",
       "      <td>C</td>\n",
       "    </tr>\n",
       "    <tr>\n",
       "      <th>7</th>\n",
       "      <td>8</td>\n",
       "      <td>C</td>\n",
       "    </tr>\n",
       "    <tr>\n",
       "      <th>8</th>\n",
       "      <td>9</td>\n",
       "      <td>C</td>\n",
       "    </tr>\n",
       "    <tr>\n",
       "      <th>9</th>\n",
       "      <td>10</td>\n",
       "      <td>D</td>\n",
       "    </tr>\n",
       "    <tr>\n",
       "      <th>10</th>\n",
       "      <td>11</td>\n",
       "      <td>D</td>\n",
       "    </tr>\n",
       "    <tr>\n",
       "      <th>11</th>\n",
       "      <td>12</td>\n",
       "      <td>D</td>\n",
       "    </tr>\n",
       "  </tbody>\n",
       "</table>\n",
       "</div>"
      ],
      "text/plain": [
       "    grupo values\n",
       "0       1      A\n",
       "1       2      A\n",
       "2       3      A\n",
       "3       4      A\n",
       "4       5      B\n",
       "5       6      B\n",
       "6       7      C\n",
       "7       8      C\n",
       "8       9      C\n",
       "9      10      D\n",
       "10     11      D\n",
       "11     12      D"
      ]
     },
     "execution_count": 2,
     "metadata": {},
     "output_type": "execute_result"
    }
   ],
   "source": [
    "a = [1,2,3,4,5,6,7,8,9,10,11,12]\n",
    "b = [\"A\",\"A\",\"A\",\"A\",\"B\",\"B\",\"C\",\"C\",\"C\",\"D\",\"D\",\"D\"]\n",
    "\n",
    "df = pd.DataFrame({\"grupo\": a, \"values\": b})\n",
    "\n",
    "df"
   ]
  },
  {
   "cell_type": "markdown",
   "id": "90ae846b",
   "metadata": {},
   "source": [
    "#### Primeiramente, vamos fazer uma amostragem estratificada onde cada estrato vai ter o msmo tamanho na amostra final, a menos que a quantidade dentro do estrato seja menor do que a que queremos"
   ]
  },
  {
   "cell_type": "code",
   "execution_count": 3,
   "id": "c5f3c259",
   "metadata": {},
   "outputs": [],
   "source": [
    "def amostra_estratificada_1(df, n, estrato):\n",
    "    amostra = df.groupby(estrato, group_keys=False).apply(lambda x: x.sample(min(len(x), n)))\n",
    "    \n",
    "    return amostra"
   ]
  },
  {
   "cell_type": "markdown",
   "id": "91460adf",
   "metadata": {},
   "source": [
    "#### Amostra estratificada com estratos de tamanho 2"
   ]
  },
  {
   "cell_type": "code",
   "execution_count": 4,
   "id": "0ca4c104",
   "metadata": {},
   "outputs": [
    {
     "data": {
      "text/html": [
       "<div>\n",
       "<style scoped>\n",
       "    .dataframe tbody tr th:only-of-type {\n",
       "        vertical-align: middle;\n",
       "    }\n",
       "\n",
       "    .dataframe tbody tr th {\n",
       "        vertical-align: top;\n",
       "    }\n",
       "\n",
       "    .dataframe thead th {\n",
       "        text-align: right;\n",
       "    }\n",
       "</style>\n",
       "<table border=\"1\" class=\"dataframe\">\n",
       "  <thead>\n",
       "    <tr style=\"text-align: right;\">\n",
       "      <th></th>\n",
       "      <th>grupo</th>\n",
       "      <th>values</th>\n",
       "    </tr>\n",
       "  </thead>\n",
       "  <tbody>\n",
       "    <tr>\n",
       "      <th>0</th>\n",
       "      <td>1</td>\n",
       "      <td>A</td>\n",
       "    </tr>\n",
       "    <tr>\n",
       "      <th>1</th>\n",
       "      <td>2</td>\n",
       "      <td>A</td>\n",
       "    </tr>\n",
       "    <tr>\n",
       "      <th>2</th>\n",
       "      <td>3</td>\n",
       "      <td>A</td>\n",
       "    </tr>\n",
       "    <tr>\n",
       "      <th>3</th>\n",
       "      <td>4</td>\n",
       "      <td>A</td>\n",
       "    </tr>\n",
       "    <tr>\n",
       "      <th>4</th>\n",
       "      <td>5</td>\n",
       "      <td>B</td>\n",
       "    </tr>\n",
       "    <tr>\n",
       "      <th>5</th>\n",
       "      <td>6</td>\n",
       "      <td>B</td>\n",
       "    </tr>\n",
       "    <tr>\n",
       "      <th>6</th>\n",
       "      <td>7</td>\n",
       "      <td>C</td>\n",
       "    </tr>\n",
       "    <tr>\n",
       "      <th>7</th>\n",
       "      <td>8</td>\n",
       "      <td>C</td>\n",
       "    </tr>\n",
       "    <tr>\n",
       "      <th>8</th>\n",
       "      <td>9</td>\n",
       "      <td>C</td>\n",
       "    </tr>\n",
       "    <tr>\n",
       "      <th>9</th>\n",
       "      <td>10</td>\n",
       "      <td>D</td>\n",
       "    </tr>\n",
       "    <tr>\n",
       "      <th>10</th>\n",
       "      <td>11</td>\n",
       "      <td>D</td>\n",
       "    </tr>\n",
       "    <tr>\n",
       "      <th>11</th>\n",
       "      <td>12</td>\n",
       "      <td>D</td>\n",
       "    </tr>\n",
       "  </tbody>\n",
       "</table>\n",
       "</div>"
      ],
      "text/plain": [
       "    grupo values\n",
       "0       1      A\n",
       "1       2      A\n",
       "2       3      A\n",
       "3       4      A\n",
       "4       5      B\n",
       "5       6      B\n",
       "6       7      C\n",
       "7       8      C\n",
       "8       9      C\n",
       "9      10      D\n",
       "10     11      D\n",
       "11     12      D"
      ]
     },
     "execution_count": 4,
     "metadata": {},
     "output_type": "execute_result"
    }
   ],
   "source": [
    "amostra_estratificada_1(df, 2, 'grupo')"
   ]
  },
  {
   "cell_type": "markdown",
   "id": "6b984cfb",
   "metadata": {},
   "source": [
    "#### Agora, ao invés de definir o tamanho dos estratos, vamos definir o tamanho da amostra final. Cada estrato vai ter uma amostra proporcional á representação do estrato da população."
   ]
  },
  {
   "cell_type": "code",
   "execution_count": 5,
   "id": "96fbe02a",
   "metadata": {},
   "outputs": [],
   "source": [
    "def amostra_estratificada2(df, N, estrato):\n",
    "    tamanho_pop = df.shape[0]\n",
    "    amostra = df.groupby(estrato, group_keys=False)\\\n",
    "        .apply(lambda x: x.sample(int(N*len(x)/tamanho_pop)))\\\n",
    "        .reset_index(drop=True)\\\n",
    "        .sort_values(by=estrato)\n",
    "    \n",
    "    return amostra"
   ]
  },
  {
   "cell_type": "markdown",
   "id": "4af9e247",
   "metadata": {},
   "source": [
    "#### Amostra estratificada de tamaho 9"
   ]
  },
  {
   "cell_type": "code",
   "execution_count": 6,
   "id": "4e679a83",
   "metadata": {},
   "outputs": [
    {
     "data": {
      "text/html": [
       "<div>\n",
       "<style scoped>\n",
       "    .dataframe tbody tr th:only-of-type {\n",
       "        vertical-align: middle;\n",
       "    }\n",
       "\n",
       "    .dataframe tbody tr th {\n",
       "        vertical-align: top;\n",
       "    }\n",
       "\n",
       "    .dataframe thead th {\n",
       "        text-align: right;\n",
       "    }\n",
       "</style>\n",
       "<table border=\"1\" class=\"dataframe\">\n",
       "  <thead>\n",
       "    <tr style=\"text-align: right;\">\n",
       "      <th></th>\n",
       "      <th>grupo</th>\n",
       "      <th>values</th>\n",
       "    </tr>\n",
       "  </thead>\n",
       "  <tbody>\n",
       "  </tbody>\n",
       "</table>\n",
       "</div>"
      ],
      "text/plain": [
       "Empty DataFrame\n",
       "Columns: [grupo, values]\n",
       "Index: []"
      ]
     },
     "execution_count": 6,
     "metadata": {},
     "output_type": "execute_result"
    }
   ],
   "source": [
    "amostra_estratificada2(df, 9, 'grupo')"
   ]
  },
  {
   "cell_type": "markdown",
   "id": "4b31a381",
   "metadata": {},
   "source": [
    "#### Aqui, precisaremos primeiro aostrar aleatóriamente os conglomerados para então pegar todas as observações desses conglomerados escolhidos e formar nossa amostra."
   ]
  },
  {
   "cell_type": "code",
   "execution_count": 7,
   "id": "80c3c54f",
   "metadata": {},
   "outputs": [],
   "source": [
    "def amostra_conglomerado(df, n_conglomerados, conglomerado):\n",
    "    todos_conglomerados = list(df[conglomerado].unique())\n",
    "    tamanho_conglomerados = len(todos_conglomerados)\n",
    "    n = min(n_conglomerados, tamanho_conglomerados)\n",
    "    conglomerados_sorteados = sample(todos_conglomerados, n)\n",
    "    \n",
    "    amostra = df[df[conglomerado].isin(conglomerados_sorteados)]\n",
    "    return amostra"
   ]
  },
  {
   "cell_type": "markdown",
   "id": "4fca90ff",
   "metadata": {},
   "source": [
    "#### Amostra por conglomerados com tamanho 2 conglomerados"
   ]
  },
  {
   "cell_type": "code",
   "execution_count": 8,
   "id": "80f4bde4",
   "metadata": {},
   "outputs": [
    {
     "data": {
      "text/html": [
       "<div>\n",
       "<style scoped>\n",
       "    .dataframe tbody tr th:only-of-type {\n",
       "        vertical-align: middle;\n",
       "    }\n",
       "\n",
       "    .dataframe tbody tr th {\n",
       "        vertical-align: top;\n",
       "    }\n",
       "\n",
       "    .dataframe thead th {\n",
       "        text-align: right;\n",
       "    }\n",
       "</style>\n",
       "<table border=\"1\" class=\"dataframe\">\n",
       "  <thead>\n",
       "    <tr style=\"text-align: right;\">\n",
       "      <th></th>\n",
       "      <th>grupo</th>\n",
       "      <th>values</th>\n",
       "    </tr>\n",
       "  </thead>\n",
       "  <tbody>\n",
       "    <tr>\n",
       "      <th>7</th>\n",
       "      <td>8</td>\n",
       "      <td>C</td>\n",
       "    </tr>\n",
       "    <tr>\n",
       "      <th>8</th>\n",
       "      <td>9</td>\n",
       "      <td>C</td>\n",
       "    </tr>\n",
       "  </tbody>\n",
       "</table>\n",
       "</div>"
      ],
      "text/plain": [
       "   grupo values\n",
       "7      8      C\n",
       "8      9      C"
      ]
     },
     "execution_count": 8,
     "metadata": {},
     "output_type": "execute_result"
    }
   ],
   "source": [
    "amostra_conglomerado(df, 2, 'grupo')"
   ]
  },
  {
   "cell_type": "code",
   "execution_count": null,
   "id": "0917ffdf",
   "metadata": {},
   "outputs": [],
   "source": []
  }
 ],
 "metadata": {
  "kernelspec": {
   "display_name": "Python 3",
   "language": "python",
   "name": "python3"
  },
  "language_info": {
   "codemirror_mode": {
    "name": "ipython",
    "version": 3
   },
   "file_extension": ".py",
   "mimetype": "text/x-python",
   "name": "python",
   "nbconvert_exporter": "python",
   "pygments_lexer": "ipython3",
   "version": "3.6.9"
  }
 },
 "nbformat": 4,
 "nbformat_minor": 5
}
